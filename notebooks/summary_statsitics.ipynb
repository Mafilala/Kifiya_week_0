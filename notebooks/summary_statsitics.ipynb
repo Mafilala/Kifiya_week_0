{
 "cells": [
  {
   "cell_type": "code",
   "execution_count": null,
   "metadata": {},
   "outputs": [],
   "source": []
  },
  {
   "cell_type": "code",
   "execution_count": null,
   "metadata": {},
   "outputs": [],
   "source": [
    "import pandas as pd\n",
    "def headers():\n",
    "   df = pd.read_csv('../src/benin-malanville.csv');\n",
    "   headers = df.columns.to_list()\n",
    "   return headers\n",
    "   "
   ]
  },
  {
   "cell_type": "markdown",
   "metadata": {},
   "source": [
    "## Exploratory Data Analysis (EDA) for Solar Radiation Measurement Data of different Countries\n",
    "### Benin "
   ]
  },
  {
   "cell_type": "code",
   "execution_count": 3,
   "metadata": {},
   "outputs": [],
   "source": [
    "data_description = {\n",
    "    \"GHI\": \"Global Horizontal Irradiance\",\n",
    "    \"DNI\": \"Direct Normal Irradiance\",\n",
    "    \"DHI\": \"Diffuse Horizontal Irradiance\",\n",
    "    \"ModA\": \"Measurements from Module A\",\n",
    "    \"ModB\": \"Measurements from Module B\",\n",
    "    \"Tamb\": \"Ambient Temperature\",\n",
    "    \"RH\": \"Relative Humidity\",\n",
    "    \"WS\": \"Wind Speed\",\n",
    "    \"WSgust\": \"Maximum Wind Gust Speed\",\n",
    "    \"WSstdev\": \"Standard Deviation of Wind Speed\",\n",
    "    \"WD\": \"Wind Direction\",\n",
    "    \"WDstdev\": \"Standard Deviation of Wind Direction\",\n",
    "    \"BP\": \"Barometric Pressure\",\n",
    "    \"Cleaning\": \"Cleaning Status\",\n",
    "    \"Precipitation\": \"Precipitation Rate\",\n",
    "    \"TModA\": \"Temperature of Module A\",\n",
    "    \"TModB\": \"Temperature of Module B\"\n",
    "}"
   ]
  },
  {
   "cell_type": "code",
   "execution_count": 4,
   "metadata": {},
   "outputs": [],
   "source": [
    "import pandas as pd\n",
    "def getStat():\n",
    "   stats = {}\n",
    "   df = pd.read_csv('../src/benin-malanville.csv')\n",
    "   for column in data_description.keys():\n",
    "      mean = df[column].mean()\n",
    "      median = df[column].median()\n",
    "      std_dev = df[column].std()\n",
    "      min_val = df[column].min()\n",
    "      max_val = df[column].max()\n",
    "      stats[column] = {\n",
    "         \"Mean\": round(mean, 2),\n",
    "         \"Median\": round(median, 2),\n",
    "         \"Standard Deviation\": round(std_dev, 2),\n",
    "         \"Min\": round(min_val, 2),\n",
    "         \"Max\": round(max_val, 2),\n",
    "      }\n",
    "   return stats"
   ]
  },
  {
   "cell_type": "markdown",
   "metadata": {},
   "source": [
    "### Summary Statistics: Mean, Median, Standard deviation, Min, and Max of each Numeric Column"
   ]
  },
  {
   "cell_type": "code",
   "execution_count": 5,
   "metadata": {},
   "outputs": [
    {
     "name": "stdout",
     "output_type": "stream",
     "text": [
      "{'Mean': np.float64(240.559452435312), 'Median': np.float64(1.8), 'Standard Deviation': np.float64(331.13132727519655), 'Min': np.float64(-12.9), 'Max': np.float64(1413.0)}\n"
     ]
    }
   ],
   "source": [
    "stat = getStat()['GHI']\n",
    "print(stat)"
   ]
  },
  {
   "cell_type": "code",
   "execution_count": null,
   "metadata": {},
   "outputs": [],
   "source": []
  }
 ],
 "metadata": {
  "kernelspec": {
   "display_name": "Python 3",
   "language": "python",
   "name": "python3"
  },
  "language_info": {
   "codemirror_mode": {
    "name": "ipython",
    "version": 3
   },
   "file_extension": ".py",
   "mimetype": "text/x-python",
   "name": "python",
   "nbconvert_exporter": "python",
   "pygments_lexer": "ipython3",
   "version": "3.12.3"
  }
 },
 "nbformat": 4,
 "nbformat_minor": 2
}
